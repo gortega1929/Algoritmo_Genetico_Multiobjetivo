{
 "cells": [
  {
   "cell_type": "markdown",
   "metadata": {
    "id": "2VP6d4IEg-qk"
   },
   "source": [
    "# Optimizacion Industrial con Computacion Evolutiva\n",
    "<b> Diplomatura de Especialización en Desarrollo de Aplicaciones con Inteligencia Artificial</b>\n",
    "\n",
    "Dr. Edwin Villanueva (ervillanueva@pucp.edu.pe)"
   ]
  },
  {
   "cell_type": "markdown",
   "metadata": {
    "id": "s4LxYBghg-qy"
   },
   "source": [
    "## Asignación de vuelos a gates en aeropuerto\n",
    "\n",
    "Esta  notebook implementa un algoritmo genético monoobjetivo para la resolución de la asignación de vuelos a gates. Los operadores de cruzamiento y mutación NO aseguran que los individuos representen vuelos diferentes y gates diferentes.\n",
    "\n",
    "#### Representacion de Individuo:\n",
    "\n",
    "Un objeto Individual representaa una determinada asignacion de un subconjunto de vuelos (almacenado en <b>list_of_flights</b>) a un conjunto de gates (almacenado en <b>chromosome</b>). La lista de gates disponibles que se pueden asignar a los vuelos se almacena en la variable <b>allele_pool</b>  del individuo. Ver el siguiente grafico ilustrativo:\n",
    "\n",
    "<img src=\"EjemploIndividuoAvion.jpg\">\n",
    "\n"
   ]
  },
  {
   "cell_type": "code",
   "execution_count": 2,
   "metadata": {
    "id": "3BiTFdyNhskY"
   },
   "outputs": [],
   "source": [
    "import sys\n",
    "import time\n",
    "import numpy as np\n",
    "import random\n",
    "from random import seed, randint, sample, uniform, randrange\n",
    "from copy import deepcopy\n",
    "import matplotlib.pyplot as plt"
   ]
  },
  {
   "cell_type": "markdown",
   "metadata": {
    "id": "IRVDEMS3g-q1"
   },
   "source": [
    "### Clase <b>Individual</b>\n",
    "\n",
    "Esta es una clase para definir a un individuo de la población. Cada individuo posee un cromosoma, los vuelos a asignar, todos los posibles alelos y su respectivo fitness. Además, los métodos de esta clase permiten realizar el cruzamiento (crossover) y la mutación (mutation) sobre el cromosoma del individuo."
   ]
  },
  {
   "cell_type": "code",
   "execution_count": 438,
   "metadata": {
    "id": "wD-qU6LnGM8_"
   },
   "outputs": [],
   "source": [
    "# Clase que implementa el individuo y sus operadores\n",
    "class Individual(object):\n",
    "    \n",
    "    # El constructor recibe la lista de vuelos que representa el individuo y los gates asignados, asi como el pool de flights y gates\n",
    "    def __init__(self, flights, gates, flights_pool, gates_pool):  \n",
    "        self.flights = flights[:]\n",
    "        self.gates = gates[:]\n",
    "        self.flights_pool = flights_pool\n",
    "        self.gates_pool = gates_pool\n",
    "        self.fitness = -1 # -1 indica que el individuo no ha sido evaluado\n",
    "        #self.fitness = [-1.-1]\n",
    "\n",
    "\n",
    "    def crossover_onepoint(self, other):\n",
    "        \"Retorna dos nuevos individuos del cruzamiento de un punto entre individuos self y other \"\n",
    "        c = randrange(len(self.gates))  # escoge aleatoriamento una posicion en la lista gates\n",
    "        ind1 = Individual(self.flights, self.gates[:c] + other.gates[c:], self.flights_pool, self.gates_pool)\n",
    "        ind2 = Individual(self.flights, other.gates[:c] + self.gates[c:], self.flights_pool, self.gates_pool)\n",
    "        return [ind1, ind2]\n",
    "  \n",
    "    def crossover_uniform(self, other):\n",
    "        \"Retorna dos nuevos individuos del cruzamiento uniforme entre self y other \"\n",
    "        gates_ind1 = []\n",
    "        gates_ind2 = []\n",
    "        \n",
    "        for i in range(len(self.gates)):\n",
    "            if uniform(0, 1) < 0.5:\n",
    "                gates_ind1.append(self.gates[i])\n",
    "                gates_ind2.append(other.gates[i])\n",
    "            else:\n",
    "                gates_ind1.append(other.gates[i])\n",
    "                gates_ind2.append(self.gates[i])\n",
    "        ind1 = Individual(self.flights, gates_ind1, self.flights_pool, self.gates_pool)\n",
    "        ind2 = Individual(self.flights, gates_ind2, self.flights_pool, self.gates_pool)\n",
    "        return [ind1, ind2]\n",
    "    \n",
    "    def crossover_orderpermutation(self, other):\n",
    "        pos_constantes_flights = []\n",
    "        pos_constantes_flights = random.sample(range(len(self.flights)),len(self.flights)//2)\n",
    "        new_flights1 = [-1]*len(self.flights)\n",
    "        new_flights2 = [-1]*len(other.flights)\n",
    "\n",
    "        for index in pos_constantes_flights:\n",
    "            new_flights1[index] = self.flights[index]\n",
    "            new_flights2[index] = other.flights[index]\n",
    "\n",
    "        for i in range(len(self.flights)):\n",
    "            if(new_flights1[i] == -1):\n",
    "                for j in range(len(self.flights)):\n",
    "                    list_identifiers_new_flights1 = []\n",
    "                    for k in range(len(new_flights1)):\n",
    "                        #if not isinstance(new_flights1.identifier, list): \n",
    "                        #    list_identifiers_new_flights1 = list_identifiers_new_flights1 + [new_flights1.identifier]\n",
    "                        list_identifiers_new_flights1 = list_identifiers_new_flights1 + [getattr(new_flights1[k], 'identifier', -1)]\n",
    "                    \n",
    "                    if other.flights[j].identifier not in list_identifiers_new_flights1:\n",
    "                        new_flights1[i] = other.flights[j]\n",
    "                        #break\n",
    "                # En caso de que no encuentre ningún vuelo que asignar\n",
    "                if new_flights1[i] == -1:\n",
    "                    self.flights_pool[randrange(0, len(self.flights_pool))]\n",
    "                \n",
    "                for j in range(len(other.flights)):\n",
    "                    list_identifiers_new_flights2 = []\n",
    "                    for k in range(len(new_flights2)):\n",
    "                        #if not isinstance(new_flights2.identifier, list): \n",
    "                        #    list_identifiers_new_flights2 = list_identifiers_new_flights2 + [new_flights2.identifier]\n",
    "                        list_identifiers_new_flights2 = list_identifiers_new_flights2 + [getattr(new_flights2[k], 'identifier', -1)]\n",
    "                    \n",
    "                    if self.flights[j].identifier not in list_identifiers_new_flights2:\n",
    "                        new_flights2[i] = self.flights[j]\n",
    "                        #break\n",
    "                # En caso de que no encuentre ningún vuelo que asignar\n",
    "                if new_flights2[i] == -1:\n",
    "                    other.flights_pool[randrange(0, len(other.flights_pool))]\n",
    "                    \n",
    "        ind1 = Individual(new_flights1, self.gates, self.flights_pool, self.gates_pool)\n",
    "        ind2 = Individual(new_flights2, other.gates, self.flights_pool, self.gates_pool)\n",
    "        return [ind1, ind2]\n",
    "  \n",
    "    def mutate_position(self):\n",
    "        \"Cambia aleatoriamente el Gate asignado a un Flight.\"\n",
    "        mutated_flights = deepcopy(self.flights)\n",
    "        indexFlight = randrange(0, len(self.flights)) # escoje el indice del elemento de gates que sera mutado\n",
    "        newFlight = self.flights_pool[randrange(0, len(self.flights_pool))]\n",
    "        mutated_flights[indexFlight] = newFlight\n",
    "        return Individual(mutated_flights, self.gates, self.flights_pool, self.gates_pool)\n",
    "    \n",
    "    def mutate_swap(self):\n",
    "        \"Escoge dos genes e intercambia sus alelos\"\n",
    "        mutated_gates = deepcopy(self.gates[:])\n",
    "        mutGen1 = random.randrange(1,len(mutated_gates))\n",
    "        mutGen2 = random.randrange(1,len(mutated_gates))\n",
    "        temp = mutated_gates[mutGen1]\n",
    "        mutated_gates[mutGen1] = mutated_gates[mutGen2]\n",
    "        mutated_gates[mutGen2] = temp\n",
    "\n",
    "        mutated_flights = deepcopy(self.flights[:])\n",
    "        mutGen1 = random.randrange(1,len(mutated_flights))\n",
    "        mutGen2 = random.randrange(1,len(mutated_flights))\n",
    "        temp = mutated_flights[mutGen1]\n",
    "        mutated_flights[mutGen1] = mutated_flights[mutGen2]\n",
    "        mutated_flights[mutGen2] = temp\n",
    "        return Individual(mutated_flights, mutated_gates, self.flights_pool, self.gates_pool)\n",
    "    "
   ]
  },
  {
   "cell_type": "code",
   "execution_count": 373,
   "metadata": {},
   "outputs": [
    {
     "data": {
      "text/plain": [
       "<__main__.Flight at 0x1ca1a9db5c0>"
      ]
     },
     "execution_count": 373,
     "metadata": {},
     "output_type": "execute_result"
    }
   ],
   "source": [
    "best_ind.flights_pool[randrange(0, len(best_ind.flights_pool))]"
   ]
  },
  {
   "cell_type": "markdown",
   "metadata": {
    "id": "c8x_4uA5i9XT"
   },
   "source": [
    "### Clase <b>Gate</b>\n",
    "\n",
    "Esta es una clase abstracta para definir los lugares donde los vuelos serán asignados. Se debe hacer subclases con el fin de diferenciar los tipos de lugar donde un vuelo puede ser asignado."
   ]
  },
  {
   "cell_type": "code",
   "execution_count": 4,
   "metadata": {
    "id": "rycIj2j6i_PZ"
   },
   "outputs": [],
   "source": [
    "class Gate(object):\n",
    "    def __init__(self, identifier, x, y, z):\n",
    "        self.identifier = identifier   # identificador del Gate\n",
    "        self.distance = x              # en el caso de Sleeve esto almacena la longitud de manga. En el caso de zonas es la distancia a una puerta del aeropuerto \n",
    "        self.potential_of_speed = y    # en el caso de Sleeve esto almacena la velocidad de pasajeros en manga. En el caso de zona almacena la velocidad del bus \n",
    "        self.number_of_persons_every_10m = z   # en el caso de Sleeve esto almacena el numero de personas cada 10 metros. En el cazo de zona es la capacidad del bus\n",
    "  \n",
    "    def __hash__(self):\n",
    "        return self.identifier"
   ]
  },
  {
   "cell_type": "markdown",
   "metadata": {
    "id": "fbHPYQ4qj6fb"
   },
   "source": [
    "### Clase <b>Sleeve</b>\n",
    "\n",
    "Esta clase implementa concretamente el Gate tipo Sleeve (Manga). En este tipo de gate, los pasajeros deben realizar un recorrido a pie hasta abandonar totalmente el Gate. Se tiene en cuenta la longitud de la manga, la velocidad de los pasajeros y la cantidad de personas que pueden estar cada 10m (este valor es variable porque ya refleja el ancho de la manga, puesto que una manga más ancha permite una mayor cantidad de pasajeros)."
   ]
  },
  {
   "cell_type": "code",
   "execution_count": 5,
   "metadata": {
    "id": "E9XCmO-3j472"
   },
   "outputs": [],
   "source": [
    "class Sleeve(Gate):\n",
    "    def __init__(self, identifier, length_of_sleeve, speed_of_passengers_on_sleeve, number_of_passengers_every_10m):\n",
    "        super().__init__(identifier, length_of_sleeve, speed_of_passengers_on_sleeve, number_of_passengers_every_10m)"
   ]
  },
  {
   "cell_type": "markdown",
   "metadata": {
    "id": "0T5fySg6lytA"
   },
   "source": [
    "### Clase <b>Zone</b>\n",
    "\n",
    "Esta clase implementa concretamente el Gate tipo Zone (zona). En este tipo de gate, los pasajeros son recogidos por un bus y son llevados hasta una puerta. Se tiene en cuenta la distancia de la zona a la puerta, la velocidad y capacidad del bus."
   ]
  },
  {
   "cell_type": "code",
   "execution_count": 6,
   "metadata": {
    "id": "yzwjyLG_l0nz"
   },
   "outputs": [],
   "source": [
    "class Zone(Gate):\n",
    "    def __init__(self, identifier, distance_zone_door, speed_bus, capacity_of_bus):\n",
    "        super().__init__(identifier, distance_zone_door, speed_bus, capacity_of_bus)"
   ]
  },
  {
   "cell_type": "markdown",
   "metadata": {
    "id": "ieZ9wq8amMgT"
   },
   "source": [
    "### Clase <b>Flight</b>\n",
    "\n",
    "Esta es una clase para definir a los vuelos a asignar. Cada vuelo posee una capacidad máxima, la cantidad de pasajeros, el tiempo de estacionamiento que le toma al vuelo, la longitud de las alas del avión, el tiempo de inspección al avión luego de aterrizar, el tiempo que demorarían en bajar las escaleras los pasajeros si el avión estuviera repleto, el momento de llegada al aeropuerto y el momento en que debería irse del aeropuerto."
   ]
  },
  {
   "cell_type": "code",
   "execution_count": 7,
   "metadata": {
    "id": "3Nt88YPkmLb7"
   },
   "outputs": [],
   "source": [
    "class Flight(object):\n",
    "    def __init__(self, identifier, maximum_capacity, number_of_passengers, parking_time, length_wings, inspection_time, landing_time_on_stairs, arriving_time, leaving_time):\n",
    "        self.identifier = identifier  # identificador de vuelo\n",
    "        self.maximum_capacity = maximum_capacity  # maxima capacidad del vuelo\n",
    "        self.number_of_passengers = number_of_passengers  # numero de pasajeros\n",
    "        self.parking_time = parking_time   # tiempo de parqueo\n",
    "        self.length_wings = length_wings   # longitud de las alas\n",
    "        self.inspection_time = inspection_time  # tiempo de inspeccion\n",
    "        self.landing_time_on_stairs = landing_time_on_stairs  \n",
    "        self.arriving_time = arriving_time   # tiempo de llegada al aeropuerto\n",
    "        self.leaving_time = leaving_time   # tiempo de partida del aeropuerto\n",
    "  \n",
    "    def __hash__(self):\n",
    "        return self.identifier"
   ]
  },
  {
   "cell_type": "markdown",
   "metadata": {
    "id": "tJ5cKDEOg-q4"
   },
   "source": [
    "### Funciones utilitarias para generar los Gates y Vuelos</b>\n",
    "Estas son funciones utilitarias para generar automáticamente los Gates y Vuelos"
   ]
  },
  {
   "cell_type": "code",
   "execution_count": 8,
   "metadata": {
    "id": "k8p8en78FCcq"
   },
   "outputs": [],
   "source": [
    "# Genera una lista de Gates\n",
    "def generate_list_of_gates(number_of_gates, max_length_of_sleeve=20, max_speed_of_passengers_on_sleeve=3, max_number_of_passengers_every_10m=12, max_distance_zone_door=50, max_speed_bus=15, max_capacity_of_bus=200):\n",
    "  list_of_gates = list()\n",
    "\n",
    "  for gate_identifier in range(number_of_gates):\n",
    "    gate_type = randint(0, 1)\n",
    "\n",
    "    if gate_type == 0:   # caso manga\n",
    "      distance = randint(1, max_length_of_sleeve)\n",
    "      potential_of_speed = randint(1, max_speed_of_passengers_on_sleeve)\n",
    "      number_of_persons_every_10m = randint(1, max_number_of_passengers_every_10m)\n",
    "\n",
    "      gate = Sleeve(gate_identifier, distance, potential_of_speed, number_of_persons_every_10m)\n",
    "   \n",
    "    else:    # caso zone\n",
    "      distance = randint(1, max_distance_zone_door)\n",
    "      potential_of_speed = randint(1, max_speed_bus)\n",
    "      number_of_persons_every_10m = randint(1, max_capacity_of_bus)\n",
    "\n",
    "      gate = Zone(gate_identifier, distance, potential_of_speed, number_of_persons_every_10m)\n",
    "    \n",
    "    list_of_gates.append(gate)\n",
    "  \n",
    "  return list_of_gates\n",
    "\n",
    "# Genera una lista de Flights\n",
    "def generate_list_of_flights(number_of_flights, max_maximum_capacity=100, max_number_of_passengers_factor=0.8, max_parking_time=30, max_length_wings=25, max_inspection_time=180, max_landing_time_on_stairs=60, max_arriving_time=200, max_leaving_time=1000):\n",
    "  list_of_flights = list()\n",
    "\n",
    "  max_number_of_passengers = int(np.floor(max_number_of_passengers_factor * max_maximum_capacity))\n",
    "\n",
    "  for flight_identifier in range(number_of_flights):\n",
    "    maximum_capacity = randint(max_number_of_passengers, max_maximum_capacity)\n",
    "    number_of_passengers = randint(1, max_number_of_passengers)\n",
    "    parking_time = randint(1, max_parking_time)\n",
    "    length_wings = randint(1, max_length_wings)\n",
    "    inspection_time = randint(1, max_inspection_time)\n",
    "    landing_time_on_stairs = randint(1, max_landing_time_on_stairs)\n",
    "    arriving_time = randint(1, max_arriving_time)\n",
    "    leaving_time = randint(max_arriving_time + 1, max_leaving_time)\n",
    "\n",
    "    flight = Flight(flight_identifier, maximum_capacity, number_of_passengers, parking_time, length_wings, inspection_time, landing_time_on_stairs, arriving_time, leaving_time)\n",
    "    \n",
    "    list_of_flights.append(flight)\n",
    "  \n",
    "  return list_of_flights"
   ]
  },
  {
   "cell_type": "markdown",
   "metadata": {
    "id": "uHsytNf6oaXJ"
   },
   "source": [
    "### Funciones utilitarias para ordenar los Vuelos y Gates</b>\n",
    "Estas son funciones utilitarias para ordenar los Vuelos acorde a su deseabilidad y los Gates por su flujo personas"
   ]
  },
  {
   "cell_type": "code",
   "execution_count": 9,
   "metadata": {
    "id": "25baejsnob3d"
   },
   "outputs": [],
   "source": [
    "# Funcion para ordenar vuelos por su grado de deseabilidad  ( nro_pasajeros/tiempo_en_aeropuerto )\n",
    "def process_desirability(n):\n",
    "  return n.number_of_passengers / (n.leaving_time - n.arriving_time)\n",
    "\n",
    "# Funcion para ordenar Gates por su capacidad de flujo de personas  \n",
    "def process_flow(n):\n",
    "  return n.number_of_persons_every_10m * n.potential_of_speed * 10 / n.distance"
   ]
  },
  {
   "cell_type": "markdown",
   "metadata": {
    "id": "Gqws5RELpMG1"
   },
   "source": [
    "### Funciones utilitarias para el Algoritmo Genético</b>\n",
    "Estas son funciones utilitarias para realizar el Algoritmo Genético que se encargue de la asignación de vuelos"
   ]
  },
  {
   "cell_type": "code",
   "execution_count": 10,
   "metadata": {},
   "outputs": [],
   "source": [
    "# Inicialización aleatoria de la población\n",
    "def init_population(population_number, flights_to_assign, list_of_flights, list_of_gates):\n",
    "  population = []\n",
    "  for i in range(population_number):\n",
    "    flights = sample(list_of_flights, flights_to_assign)  # escoge los vuelos del individuo\n",
    "    gates = sample(list_of_gates, flights_to_assign) # escoge los gates del individuo\n",
    "    \n",
    "    population.append( Individual(flights, gates, list_of_flights, list_of_gates) )\n",
    "  return population"
   ]
  },
  {
   "cell_type": "code",
   "execution_count": 460,
   "metadata": {},
   "outputs": [],
   "source": [
    "# Evalua una individuo representado por sus listas:  flights, gates\n",
    "def fitness(flights, gates):\n",
    "  grace_time = 5/100\n",
    "  cumulative_passengers = 0\n",
    "  cumulative_disembarkation_time = 0\n",
    "  cumulative_efficiency = 0\n",
    "  \n",
    "  for flight, gate in zip(flights, gates):\n",
    "    number_of_passengers = flight.number_of_passengers\n",
    "    if isinstance(gate, Sleeve):  # si el gate es de tipo Manga \n",
    "      disembarkation_time_of_passengers = ( (number_of_passengers * (gate.distance + flight.length_wings) / process_flow(gate)) \n",
    "                                           + flight.parking_time + flight.inspection_time ) * (1 + grace_time)\n",
    "    else:  # si el gate es de tipo Zona\n",
    "      disembarkation_time_of_passengers = ( (number_of_passengers * gate.distance / process_flow(gate)) + flight.parking_time \n",
    "                                           + (flight.landing_time_on_stairs * number_of_passengers / flight.maximum_capacity) \n",
    "                                           + flight.inspection_time ) * (1 + grace_time)\n",
    "    \n",
    "    # la eficiencia de una asignacion flight-gate es la cantidad total de pasajeros desembarcados por unidad de tiempo \n",
    "    cumulative_passengers += number_of_passengers\n",
    "    cumulative_disembarkation_time += disembarkation_time_of_passengers\n",
    "    #cumulative_efficiency += number_of_passengers / disembarkation_time_of_passengers\n",
    "  \n",
    "  cumulative_efficiency = cumulative_passengers / cumulative_disembarkation_time\n",
    "  \n",
    "  # validar que un gate o vuelo no se repita en la solución\n",
    "  list_identifiers_gates = []\n",
    "  for i in range(len(gates)):\n",
    "      list_identifiers_gates = list_identifiers_gates + [gates[i].identifier]\n",
    "  list_identifiers_flights = []\n",
    "  for i in range(len(flights)):\n",
    "      list_identifiers_flights = list_identifiers_flights + [flights[i].identifier]\n",
    "\n",
    "  if (len(list_identifiers_gates) != len(set(list_identifiers_gates))) | (len(list_identifiers_flights) != len(set(list_identifiers_flights))):\n",
    "      cumulative_efficiency = 1\n",
    "  \n",
    "  return cumulative_efficiency\n"
   ]
  },
  {
   "cell_type": "code",
   "execution_count": 12,
   "metadata": {},
   "outputs": [],
   "source": [
    "# Evaluar la población con la función fitness\n",
    "def evaluate_population(population, fitness_fn):\n",
    "  \"\"\" Evalua una poblacion de individuos con la funcion de fitness pasada \"\"\"\n",
    "  population_size = len(population)\n",
    "  for i in range(population_size):\n",
    "    if population[i].fitness == -1:    # Evalúa sólo si el individuo no esta evaluado\n",
    "      population[i].fitness = fitness_fn(population[i].flights, population[i].gates)"
   ]
  },
  {
   "cell_type": "code",
   "execution_count": 13,
   "metadata": {},
   "outputs": [],
   "source": [
    "# Selección de padres por el método roulette\n",
    "def select_parents_roulette(population):\n",
    "    popsize = len(population)\n",
    "    \n",
    "    # Escoje el primer padre\n",
    "    sumfitness = sum([indiv.fitness for indiv in population])  # suma total del fitness de la poblacion\n",
    "    pickfitness = random.uniform(0, sumfitness)   # escoge un numero aleatorio entre 0 y sumfitness\n",
    "    cumfitness = 0     # fitness acumulado\n",
    "    for i in range(popsize):\n",
    "        cumfitness += population[i].fitness\n",
    "        if cumfitness > pickfitness: \n",
    "            iParent1 = i\n",
    "            break\n",
    "    \n",
    "    # Escoje el segundo padre, desconsiderando el primer padre\n",
    "    sumfitness = sumfitness - population[iParent1].fitness # retira el fitness del padre ya escogido\n",
    "    pickfitness = random.uniform(0, sumfitness)   # escoge un numero aleatorio entre 0 y sumfitness\n",
    "    cumfitness = 0     # fitness acumulado\n",
    "    for i in range(popsize):\n",
    "        if i == iParent1: continue   # si es el primer padre \n",
    "        cumfitness += population[i].fitness\n",
    "        if cumfitness > pickfitness: \n",
    "            iParent2 = i\n",
    "            break        \n",
    "    return (population[iParent1], population[iParent2])"
   ]
  },
  {
   "cell_type": "code",
   "execution_count": 14,
   "metadata": {},
   "outputs": [],
   "source": [
    "# Selección de padres por el método de torneo\n",
    "def select_parents_tournament(population, tournament_size):\n",
    "    # Escoje el primer padre\n",
    "    list_indiv=[]\n",
    "    x1 = np.random.permutation(len(population) )\n",
    "    y1= x1[0:tournament_size]\n",
    "    for i in range(tournament_size):\n",
    "        list_indiv.append(population[y1[i]].fitness)\n",
    "    \n",
    "    iParent1=np.argmax(list_indiv)\n",
    "    \n",
    "    # Escoje el segundo padre, desconsiderando el primer padre   \n",
    "    x2 = np.delete(x1, iParent1)\n",
    "    x2 = np.random.permutation(x2)\n",
    "    list_indiv=[]\n",
    "    y2= x2[0:tournament_size]\n",
    "    for i in range(tournament_size):\n",
    "        list_indiv.append(population[y2[i]].fitness)\n",
    "    iParent2=np.argmax(list_indiv)\n",
    "    \n",
    "    return (population[x1[iParent1]],population[x2[iParent2]])"
   ]
  },
  {
   "cell_type": "code",
   "execution_count": 15,
   "metadata": {},
   "outputs": [],
   "source": [
    "# Selección de la nueva población con metodo de ranking\n",
    "def select_survivors_ranking(population, offspring_population, numsurvivors):\n",
    "    next_population = []\n",
    "    population.extend(offspring_population) # une las dos poblaciones\n",
    "    survivors = sorted(population, key=lambda x: x.fitness, reverse=True)[:numsurvivors]\n",
    "    next_population.extend(survivors)\n",
    "    return next_population"
   ]
  },
  {
   "cell_type": "markdown",
   "metadata": {},
   "source": [
    "### Algoritmo Genético"
   ]
  },
  {
   "cell_type": "code",
   "execution_count": 439,
   "metadata": {},
   "outputs": [],
   "source": [
    "population = init_population(50, 10, list_of_flights, list_of_gates)\n",
    "population_size = 50"
   ]
  },
  {
   "cell_type": "code",
   "execution_count": 444,
   "metadata": {},
   "outputs": [],
   "source": [
    "evaluate_population(population, fitness)\n",
    "\n",
    "for g in range(10): # ciclo evolutivo\n",
    "    ## Selecciona parejas de individuos (mating_pool) para cruzamiento con el metodo de la ruleta\n",
    "    mating_pool = []\n",
    "    for i in range(int(population_size/2)):\n",
    "        mating_pool.append(select_parents_tournament(population, 3))  #torneo de tamaño 3\n",
    "\n",
    "    ## Crea la poblacion descendencia cruzando las parejas del mating pool     \n",
    "    offspring_population = []\n",
    "    for i in range(len(mating_pool)):\n",
    "        offspring_population.extend( mating_pool[i][0].crossover_orderpermutation(mating_pool[i][1]) )\n",
    "\n",
    "    ## Aplica el operador de mutacion con probabilidad pmut en cada hijo generado\n",
    "    for i in range(len(offspring_population)):\n",
    "        offspring_population[i] = offspring_population[i].mutate_swap()\n",
    "\n",
    "    ## Evalua la poblacion descendencia creada\n",
    "    evaluate_population(offspring_population, fitness)\n",
    "    population = select_survivors_ranking(population, offspring_population, 50)\n"
   ]
  },
  {
   "cell_type": "code",
   "execution_count": 461,
   "metadata": {},
   "outputs": [],
   "source": [
    "#for i in range(len(offspring_population)):\n",
    "    #print(offspring_population[i].flights)"
   ]
  },
  {
   "cell_type": "code",
   "execution_count": 462,
   "metadata": {},
   "outputs": [],
   "source": [
    "def genetic_algorithm(list_of_flights, list_of_gates, num_individuals, flights_to_assign, fitness_fn, n_generations, \n",
    "                      selection_fn=\"roulette\", crossover=\"onepoint\", mutation=\"position\", p_mut=0.1):\n",
    "  #seed(0)\n",
    "\n",
    "  #Inicializa una poblacion inicial de forma aleatoria\n",
    "  population = init_population(num_individuals, flights_to_assign, list_of_flights, list_of_gates)\n",
    "\n",
    "  population_size = len(population)\n",
    "  evaluate_population(population, fitness_fn)\n",
    "\n",
    "  best_ind = sorted(population, key=lambda x: x.fitness, reverse=True)[0]  # mejor individuo\n",
    "  bestfitness = [best_ind.fitness]  # guarda el fitness del mejor individuo  \n",
    "  print(\"Poblacion inicial, best_fitness = {}\".format(best_ind.fitness))\n",
    "  \n",
    "  for g in range(n_generations): # ciclo evolutivo\n",
    "    \n",
    "    ## Selecciona parejas de individuos (mating_pool) para cruzamiento con el metodo de la ruleta\n",
    "    mating_pool = []\n",
    "    for i in range(int(population_size/2)):\n",
    "      if selection_fn == \"roulette\":\n",
    "        mating_pool.append(select_parents_roulette(population))\n",
    "      elif selection_fn == \"tournament\":\n",
    "        mating_pool.append(select_parents_tournament(population, 3))  #torneo de tamaño 3\n",
    "      else:\n",
    "        raise NotImplementedError\n",
    "\n",
    "    ## Crea la poblacion descendencia cruzando las parejas del mating pool     \n",
    "    offspring_population = []\n",
    "    for i in range(len(mating_pool)):\n",
    "      if crossover == \"onepoint\":\n",
    "        offspring_population.extend( mating_pool[i][0].crossover_onepoint(mating_pool[i][1]) )\n",
    "      elif crossover == \"uniform\":\n",
    "        offspring_population.extend( mating_pool[i][0].crossover_uniform(mating_pool[i][1]) )\n",
    "      elif crossover == \"orderpermutation\":\n",
    "        offspring_population.extend( mating_pool[i][0].crossover_orderpermutation(mating_pool[i][1]) )\n",
    "      else:\n",
    "        raise NotImplementedError\n",
    "    \n",
    "    ## Aplica el operador de mutacion con probabilidad pmut en cada hijo generado\n",
    "    for i in range(len(offspring_population)):\n",
    "      if uniform(0, 1) < p_mut: \n",
    "        if mutation == \"position\":\n",
    "          offspring_population[i] = offspring_population[i].mutate_swap()\n",
    "        elif mutation == \"swap\":\n",
    "          offspring_population[i] = offspring_population[i].mutate_swap()\n",
    "        else:\n",
    "          raise NotImplementedError  \n",
    "\n",
    "    ## Evalua la poblacion descendencia creada\n",
    "    evaluate_population(offspring_population, fitness_fn)\n",
    "    \n",
    "    ## Selecciona individuos para la sgte. generación con el metodo de ranking\n",
    "    population = select_survivors_ranking(population, offspring_population, population_size) #metodo de ranking\n",
    "\n",
    "    ## Almacena la historia del fitness del mejor individuo\n",
    "    best_ind = sorted(population, key=lambda x: x.fitness, reverse=True)[0]  # mejor individuo de la poblacion actual\n",
    "    bestfitness.append(best_ind.fitness)\n",
    "        \n",
    "    if (g % 10 == 0):  # muestra resultados cada 10 generaciones\n",
    "      print(\"generacion {}, (Mejor fitness = {})\".format(g, best_ind.fitness))\n",
    "        \n",
    "  return best_ind, bestfitness  # devuelve el mejor individuo y la lista de mejores fitness x gen    "
   ]
  },
  {
   "cell_type": "markdown",
   "metadata": {
    "id": "pc90jPukpbwN"
   },
   "source": [
    "### Funciones utilitarias para manejar la solución del Algoritmo Genético</b>\n",
    "Esta es una función utilitarias que permite mostrar la configuración usada en el Algoritmo Genético y la asignación de Vuelos a Gates encontrada en un individuo pasado (ind)"
   ]
  },
  {
   "cell_type": "code",
   "execution_count": 17,
   "metadata": {
    "id": "yb6LUKwKpXDJ"
   },
   "outputs": [],
   "source": [
    "def make_solution_report(ind, selection_fn, crossover, mutation):\n",
    "  print(\"Selection: {} - Crossover: {} - Mutation: {} - Fitness: {}\".format(selection_fn, crossover, mutation, ind.fitness), flush=True)\n",
    "  print(\"\\n\".join([\"Flight {} in {} {}\".format(flight.identifier, \"Zone\" if isinstance(gate, Zone) == True else \"Sleeve\", gate.identifier) for flight, gate in zip(ind.flights, ind.gates)]) + \"\\n\", flush=True)"
   ]
  },
  {
   "cell_type": "code",
   "execution_count": 18,
   "metadata": {},
   "outputs": [],
   "source": [
    "import pandas as pd\n",
    "import datetime as dt"
   ]
  },
  {
   "cell_type": "code",
   "execution_count": 379,
   "metadata": {},
   "outputs": [],
   "source": [
    "# Crear DataFrame\n",
    "columnas = ['tipo_seleccion_padres', 'tipo_cruzamiento', 'tipo_mutacion', 'p_mut', 'tipo_seleccion_sobrevivientes'\n",
    "            , 'avg_max_fitness', 'avg_convergence', 'date_time']\n",
    "df = pd.DataFrame(columns=columnas)\n",
    "\n",
    "def guardar_log_interacion(df, tipo_seleccion_padres, tipo_cruzamiento, tipo_mutacion, p_mut, tipo_seleccion_sobrevivientes, bestfitness):\n",
    "    # Definiendo variables a guardar\n",
    "    df_aux = pd.DataFrame(bestfitness, columns=['max_fitness']).reset_index()\n",
    "\n",
    "    fecha_hora_registro = dt.datetime.now().strftime('%Y-%m-%d %H:%M:%S')\n",
    "    max_fitness_sample = df_aux['max_fitness'].max()\n",
    "    iteracion_convergencia = df_aux[df_aux['max_fitness'] == df_aux['max_fitness'].max()]['index'].min()\n",
    "\n",
    "    # Datos de la nueva fila como un diccionario\n",
    "    nueva_fila = {'tipo_seleccion_padres': tipo_seleccion_padres, 'tipo_cruzamiento': tipo_cruzamiento\n",
    "                  , 'tipo_mutacion': tipo_mutacion, 'p_mut': p_mut\n",
    "                  , 'tipo_seleccion_sobrevivientes': tipo_seleccion_sobrevivientes\n",
    "                  , 'avg_max_fitness': max_fitness_sample, 'avg_convergence': iteracion_convergencia\n",
    "                  , 'date_time': fecha_hora_registro}\n",
    "\n",
    "    # Añadir la nueva fila al DataFrame\n",
    "    df = pd.concat([df, pd.DataFrame([nueva_fila])], ignore_index=True)\n",
    "    \n",
    "    return df"
   ]
  },
  {
   "cell_type": "markdown",
   "metadata": {
    "id": "qYjVdTfeg-q6"
   },
   "source": [
    "## <b>Probando el Algoritmo Genético</b> "
   ]
  },
  {
   "cell_type": "markdown",
   "metadata": {
    "id": "1m0pxINHqQ2m"
   },
   "source": [
    "### <b>Generación de Gates y Vuelos</b> \n",
    "\n",
    "Genera los Gates y Vuelos para que el Algoritmo Genético  realize la asignacion. Asegura que el numero de vuelos a asignar (**flights_to_assign**) no sea mayor a la cantidad de puertas "
   ]
  },
  {
   "cell_type": "code",
   "execution_count": 463,
   "metadata": {
    "id": "DaqP5VHngUVg"
   },
   "outputs": [],
   "source": [
    "seed(0)\n",
    "\n",
    "number_of_gates = 10\n",
    "number_of_flights = 30\n",
    "\n",
    "# general los vuelos y gates\n",
    "list_of_gates = generate_list_of_gates(number_of_gates)\n",
    "list_of_flights = generate_list_of_flights(number_of_flights)\n",
    "\n",
    "# obtiene el numero de vuelos que el algoritmo genetico puede asignar (no puede ser mayor al numero de gates disponibles) \n",
    "flights_to_assign = number_of_flights if number_of_flights <= number_of_gates\telse number_of_gates\n",
    "  \n",
    "# ordena los vuelos por su deseabilidad y los gates por su capacidad de flujo de personas\n",
    "list_of_flights = sorted(list_of_flights, key=process_desirability, reverse=True)\n",
    "list_of_gates = sorted(list_of_gates, key=process_flow, reverse=True)"
   ]
  },
  {
   "cell_type": "markdown",
   "metadata": {
    "id": "PmmLPnvYrP6v"
   },
   "source": [
    "### <b>Experimentación con el Algoritmo Genético</b> "
   ]
  },
  {
   "cell_type": "code",
   "execution_count": 514,
   "metadata": {
    "colab": {
     "base_uri": "https://localhost:8080/"
    },
    "executionInfo": {
     "elapsed": 1481,
     "status": "ok",
     "timestamp": 1620669551366,
     "user": {
      "displayName": "FRANCO PARIASCA TREVEJO",
      "photoUrl": "",
      "userId": "00191544209069005587"
     },
     "user_tz": 300
    },
    "id": "CnfOnMijrP6x",
    "outputId": "4164975d-a037-4eb0-bfde-2dc8cbfb95fe"
   },
   "outputs": [
    {
     "name": "stdout",
     "output_type": "stream",
     "text": [
      "Poblacion inicial, best_fitness = 0.3374498236602937\n",
      "generacion 0, (Mejor fitness = 0.3374498236602937)\n",
      "generacion 10, (Mejor fitness = 0.41226976983223135)\n",
      "generacion 20, (Mejor fitness = 0.43936336479980775)\n",
      "generacion 30, (Mejor fitness = 0.4440148344845449)\n",
      "generacion 40, (Mejor fitness = 0.44424132242914816)\n",
      "Poblacion inicial, best_fitness = 0.29079555636698956\n",
      "generacion 0, (Mejor fitness = 0.29079555636698956)\n",
      "generacion 10, (Mejor fitness = 0.38924896480936416)\n",
      "generacion 20, (Mejor fitness = 0.44091728653000745)\n",
      "generacion 30, (Mejor fitness = 0.4421016766807663)\n",
      "generacion 40, (Mejor fitness = 0.4533900921598295)\n",
      "Poblacion inicial, best_fitness = 0.2694701695330106\n",
      "generacion 0, (Mejor fitness = 0.3218527910113165)\n",
      "generacion 10, (Mejor fitness = 0.42275822986333506)\n",
      "generacion 20, (Mejor fitness = 0.43194507684101086)\n",
      "generacion 30, (Mejor fitness = 0.4394971073334006)\n",
      "generacion 40, (Mejor fitness = 0.4424049461342774)\n",
      "Poblacion inicial, best_fitness = 0.2778245126635092\n",
      "generacion 0, (Mejor fitness = 0.2833065957808815)\n",
      "generacion 10, (Mejor fitness = 0.4013448380572528)\n",
      "generacion 20, (Mejor fitness = 0.43855752588708874)\n",
      "generacion 30, (Mejor fitness = 0.43855752588708874)\n",
      "generacion 40, (Mejor fitness = 0.4393501079209788)\n",
      "Poblacion inicial, best_fitness = 0.27226475224180713\n",
      "generacion 0, (Mejor fitness = 0.2872397534508609)\n",
      "generacion 10, (Mejor fitness = 0.38556344727776715)\n",
      "generacion 20, (Mejor fitness = 0.413343512243486)\n",
      "generacion 30, (Mejor fitness = 0.4482860935497672)\n",
      "generacion 40, (Mejor fitness = 0.4531392539695582)\n",
      "Poblacion inicial, best_fitness = 0.2943126892814271\n",
      "generacion 0, (Mejor fitness = 0.29918975385523106)\n",
      "generacion 10, (Mejor fitness = 0.3650061171967135)\n",
      "generacion 20, (Mejor fitness = 0.42616526864764886)\n",
      "generacion 30, (Mejor fitness = 0.4316045557407559)\n",
      "generacion 40, (Mejor fitness = 0.4473004650322542)\n",
      "Poblacion inicial, best_fitness = 0.2538575106701835\n",
      "generacion 0, (Mejor fitness = 0.2636785271123564)\n",
      "generacion 10, (Mejor fitness = 0.41969859116050084)\n",
      "generacion 20, (Mejor fitness = 0.4287997950851464)\n",
      "generacion 30, (Mejor fitness = 0.4534314779473396)\n",
      "generacion 40, (Mejor fitness = 0.4534314779473396)\n",
      "Poblacion inicial, best_fitness = 0.27663501477048275\n",
      "generacion 0, (Mejor fitness = 0.2882353288637615)\n",
      "generacion 10, (Mejor fitness = 0.361762372022763)\n",
      "generacion 20, (Mejor fitness = 0.4019808063706022)\n",
      "generacion 30, (Mejor fitness = 0.4145860308940696)\n",
      "generacion 40, (Mejor fitness = 0.4151230784192235)\n",
      "Poblacion inicial, best_fitness = 0.2728195674185376\n",
      "generacion 0, (Mejor fitness = 0.2728195674185376)\n",
      "generacion 10, (Mejor fitness = 0.38756460631689477)\n",
      "generacion 20, (Mejor fitness = 0.41612569122574605)\n",
      "generacion 30, (Mejor fitness = 0.4374367506804293)\n",
      "generacion 40, (Mejor fitness = 0.4374367506804293)\n",
      "Poblacion inicial, best_fitness = 0.2694322406858129\n",
      "generacion 0, (Mejor fitness = 0.31061292171521004)\n",
      "generacion 10, (Mejor fitness = 0.3741376532145411)\n",
      "generacion 20, (Mejor fitness = 0.41514264054117006)\n",
      "generacion 30, (Mejor fitness = 0.4339190432303591)\n",
      "generacion 40, (Mejor fitness = 0.4352465705657807)\n"
     ]
    },
    {
     "data": {
      "image/png": "[encoded data removed]",
      "text/plain": [
       "<Figure size 640x480 with 1 Axes>"
      ]
     },
     "metadata": {},
     "output_type": "display_data"
    },
    {
     "name": "stdout",
     "output_type": "stream",
     "text": [
      "Selection: tournament - Crossover: orderpermutation - Mutation: swap - Fitness: 0.44945928435790883\n",
      "Flight 7 in Sleeve 7\n",
      "Flight 16 in Sleeve 3\n",
      "Flight 4 in Sleeve 4\n",
      "Flight 19 in Zone 0\n",
      "Flight 13 in Sleeve 5\n",
      "Flight 18 in Sleeve 1\n",
      "Flight 28 in Zone 9\n",
      "Flight 17 in Sleeve 8\n",
      "Flight 6 in Sleeve 6\n",
      "Flight 3 in Zone 2\n",
      "\n"
     ]
    }
   ],
   "source": [
    "\n",
    "num_individuals = 50\n",
    "\n",
    "fitness_fn = fitness\n",
    "n_generations = 50\n",
    "\n",
    "best_fitness = 0\n",
    "\n",
    "selection_fn_list = ['tournament'] # roulette, tournament\n",
    "crossover_list = ['orderpermutation'] # onepoint, uniform, orderpermutation\n",
    "mutation_list = ['swap'] # position, swap\n",
    "p_mut_list = [0.5] #, 0.4, 0.45, 0.5, 0.6]\n",
    "num_iteration = 10\n",
    "\n",
    "# tournament - orderpermutation - swap - 0.3\n",
    "# \n",
    "\n",
    "for i in range(num_iteration):\n",
    "    for selection_fn in selection_fn_list:\n",
    "        for crossover in crossover_list:\n",
    "            for mutation in mutation_list:\n",
    "                for p_mut in p_mut_list:\n",
    "                    \n",
    "                    # Realiza la asignacion con el algoritmo genetico\n",
    "                    best_ind, bestfitness = genetic_algorithm(list_of_flights, list_of_gates, num_individuals, flights_to_assign, fitness_fn, n_generations, selection_fn, crossover, mutation, p_mut)\n",
    "\n",
    "                    # Guardar datos de iteración\n",
    "                    df = guardar_log_interacion(df, selection_fn, crossover, mutation, p_mut, 'ranking', bestfitness)\n",
    "\n",
    "# muestra la evolucion del mejor fitness\n",
    "plt.plot(bestfitness)\n",
    "plt.show()\n",
    "\n",
    "# imprime la mejor solucion\n",
    "make_solution_report(best_ind, selection_fn, crossover, mutation)"
   ]
  },
  {
   "cell_type": "code",
   "execution_count": 465,
   "metadata": {},
   "outputs": [
    {
     "data": {
      "text/html": [
       "<div>\n",
       "<style scoped>\n",
       "    .dataframe tbody tr th:only-of-type {\n",
       "        vertical-align: middle;\n",
       "    }\n",
       "\n",
       "    .dataframe tbody tr th {\n",
       "        vertical-align: top;\n",
       "    }\n",
       "\n",
       "    .dataframe thead th {\n",
       "        text-align: right;\n",
       "    }\n",
       "</style>\n",
       "<table border=\"1\" class=\"dataframe\">\n",
       "  <thead>\n",
       "    <tr style=\"text-align: right;\">\n",
       "      <th></th>\n",
       "      <th>tipo_seleccion_padres</th>\n",
       "      <th>tipo_cruzamiento</th>\n",
       "      <th>tipo_mutacion</th>\n",
       "      <th>p_mut</th>\n",
       "      <th>avg_max_fitness_mean</th>\n",
       "      <th>avg_convergence_mean</th>\n",
       "      <th>count_rows</th>\n",
       "    </tr>\n",
       "  </thead>\n",
       "  <tbody>\n",
       "    <tr>\n",
       "      <th>0</th>\n",
       "      <td>tournament</td>\n",
       "      <td>orderpermutation</td>\n",
       "      <td>swap</td>\n",
       "      <td>0.4</td>\n",
       "      <td>0.444702</td>\n",
       "      <td>42.55</td>\n",
       "      <td>20</td>\n",
       "    </tr>\n",
       "  </tbody>\n",
       "</table>\n",
       "</div>"
      ],
      "text/plain": [
       "  tipo_seleccion_padres  tipo_cruzamiento tipo_mutacion  p_mut  \\\n",
       "0            tournament  orderpermutation          swap    0.4   \n",
       "\n",
       "   avg_max_fitness_mean avg_convergence_mean  count_rows  \n",
       "0              0.444702                42.55          20  "
      ]
     },
     "execution_count": 465,
     "metadata": {},
     "output_type": "execute_result"
    }
   ],
   "source": [
    "resumen = df.groupby(['tipo_seleccion_padres', 'tipo_cruzamiento', 'tipo_mutacion', 'p_mut']).agg(\n",
    "#resumen = df.groupby(['tipo_seleccion_padres', 'tipo_cruzamiento']).agg(\n",
    "    avg_max_fitness_mean=('avg_max_fitness', 'mean'),\n",
    "    avg_convergence_mean=('avg_convergence', 'mean'),\n",
    "    count_rows=('avg_max_fitness', 'size')\n",
    ").reset_index()\n",
    "resumen = pd.DataFrame(resumen)\n",
    "resumen\n",
    "#resumen.sort_values(by = ['avg_max_fitness_mean'], ascending= False)\n",
    "#resumen.sort_values(by = ['p_mut', 'tipo_seleccion_padres', 'tipo_cruzamiento'])"
   ]
  },
  {
   "cell_type": "code",
   "execution_count": null,
   "metadata": {},
   "outputs": [],
   "source": []
  },
  {
   "cell_type": "markdown",
   "metadata": {},
   "source": [
    "## <b>Funciones para Algoritmo Genético Multiobjetivo</b> "
   ]
  },
  {
   "cell_type": "code",
   "execution_count": null,
   "metadata": {},
   "outputs": [],
   "source": [
    "# Inicialización aleatoria de la población\n",
    "def init_population(population_number, flights_to_assign, list_of_flights, list_of_gates):\n",
    "  population = []\n",
    "  for i in range(population_number):\n",
    "    flights = sample(list_of_flights, flights_to_assign)  # escoge los vuelos del individuo\n",
    "    gates = sample(list_of_gates, flights_to_assign) # escoge los gates del individuo\n",
    "    \n",
    "    population.append( Individual(flights, gates, list_of_flights, list_of_gates) )\n",
    "  return population"
   ]
  },
  {
   "cell_type": "code",
   "execution_count": 257,
   "metadata": {},
   "outputs": [],
   "source": [
    "# Evalua una individuo representado por sus listas:  flights, gates\n",
    "def fitness_multi(flights, gates):\n",
    "  grace_time = 5/100\n",
    "\n",
    "  #cumulative_efficiency = 0\n",
    "  cumulative_passengers = 0\n",
    "  cumulative_disembarkation_time = 0\n",
    "  \n",
    "  for flight, gate in zip(flights, gates):\n",
    "    number_of_passengers = flight.number_of_passengers\n",
    "    if isinstance(gate, Sleeve):  # si el gate es de tipo Manga \n",
    "      disembarkation_time_of_passengers = ( (number_of_passengers * (gate.distance + flight.length_wings) / process_flow(gate)) \n",
    "                                           + flight.parking_time + flight.inspection_time ) * (1 + grace_time)\n",
    "    else:  # si el gate es de tipo Zona\n",
    "      disembarkation_time_of_passengers = ( (number_of_passengers * gate.distance / process_flow(gate)) + flight.parking_time \n",
    "                                           + (flight.landing_time_on_stairs * number_of_passengers / flight.maximum_capacity) \n",
    "                                           + flight.inspection_time ) * (1 + grace_time)\n",
    "    \n",
    "    # la eficiencia de una asignacion flight-gate es la cantidad total de pasajeros desembarcados por unidad de tiempo \n",
    "    #cumulative_efficiency += number_of_passengers / disembarkation_time_of_passengers\n",
    "    cumulative_passengers += number_of_passengers\n",
    "    cumulative_disembarkation_time += disembarkation_time_of_passengers\n",
    "  \n",
    "  # validar que un gate o vuelo  no se repita en la solución\n",
    "  list_identifiers_gates = []\n",
    "  for i in range(len(gates)):\n",
    "      list_identifiers_gates = list_identifiers_gates + [gates[i].identifier]\n",
    "      \n",
    "  list_identifiers_flights = []\n",
    "  for i in range(len(flights)):\n",
    "      list_identifiers_flights = list_identifiers_flights + [flights[i].identifier]\n",
    "\n",
    "  if (len(list_identifiers_gates) != len(set(list_identifiers_gates))) | (len(list_identifiers_flights) != len(set(list_identifiers_flights))):\n",
    "      cumulative_passengers = 1\n",
    "      cumulative_disembarkation_time = 1000000\n",
    "\n",
    "  fitness = np.zeros(2)\n",
    "  fitness[0] = cumulative_passengers\n",
    "  fitness[1] = 1/cumulative_disembarkation_time*1000000\n",
    "  return fitness\n"
   ]
  },
  {
   "cell_type": "code",
   "execution_count": 266,
   "metadata": {},
   "outputs": [],
   "source": [
    "# Evaluar la población con la función fitness\n",
    "def evaluate_population_multi(population, fitness_fn):\n",
    "  \"\"\" Evalua una poblacion de individuos con la funcion de fitness pasada \"\"\"\n",
    "  population_size = len(population)\n",
    "  for i in range(population_size):\n",
    "    #if population[i].fitness[0] == -1 or population[i].fitness[1] == -1 :\n",
    "    if population[i].fitness == -1:    # Evalúa sólo si el individuo no esta evaluado\n",
    "      population[i].fitness = fitness_multi(population[i].flights, population[i].gates)"
   ]
  },
  {
   "cell_type": "code",
   "execution_count": 56,
   "metadata": {},
   "outputs": [],
   "source": [
    "def build_offspring_population(population, crossover, mutation, pmut):\n",
    "    \"\"\" Construye una poblacion hija con los operadores de cruzamiento y mutacion pasados\n",
    "        crossover:  operador de cruzamiento\n",
    "        mutation:   operador de mutacion\n",
    "        pmut:       taza de mutacion\n",
    "    \"\"\"\n",
    "    pop_size = len(population)\n",
    "\n",
    "    ## Selecciona parejas de individuos (mating_pool) para cruzamiento\n",
    "    mating_pool = []\n",
    "    for i in range(int(pop_size/2)):\n",
    "        # escoje dos individuos diferentes aleatoriamente de la poblacion\n",
    "        permut = np.random.permutation( pop_size )\n",
    "        mating_pool.append( (population[permut[0]], population[permut[1]] ) )\n",
    "\n",
    "    ## Crea la poblacion descendencia cruzando las parejas del mating pool\n",
    "    offspring_population = []\n",
    "    for i in range(len(mating_pool)):\n",
    "        if crossover == \"onepoint\":\n",
    "            offspring_population.extend( mating_pool[i][0].crossover_onepoint(mating_pool[i][1]) ) # cruzamiento 1 punto\n",
    "        elif crossover == \"uniform\":\n",
    "            offspring_population.extend( mating_pool[i][0].crossover_uniform(mating_pool[i][1]) ) # cruzamiento uniforme\n",
    "        elif crossover == \"orderpermutation\":\n",
    "            offspring_population.extend( mating_pool[i][0].crossover_orderpermutation(mating_pool[i][1]) )\n",
    "        else:\n",
    "            raise NotImplementedError\n",
    "\n",
    "    ## Aplica el operador de mutacion con probabilidad pmut en cada hijo generado\n",
    "    for i in range(len(offspring_population)):\n",
    "        if uniform(0, 1) < pmut:\n",
    "            if mutation == \"position\":\n",
    "                offspring_population[i] = offspring_population[i].mutate_swap()\n",
    "            elif mutation == \"swap\":\n",
    "                offspring_population[i] = offspring_population[i].mutate_swap()\n",
    "            else:\n",
    "                raise NotImplementedError\n",
    "\n",
    "    return offspring_population"
   ]
  },
  {
   "cell_type": "code",
   "execution_count": 43,
   "metadata": {},
   "outputs": [],
   "source": [
    "def get_crowding_distances(fitnesses):\n",
    "    \"\"\"\n",
    "    La distancia crowding de un individuo es la diferencia del fitness mas proximo hacia arriba menos el fitness mas proximo\n",
    "    hacia abajo. El valor crowding total es la suma de todas las distancias crowdings para todos los fitness\n",
    "    \"\"\"\n",
    "\n",
    "    pop_size = len(fitnesses[:, 0])\n",
    "    num_objectives = len(fitnesses[0, :])\n",
    "\n",
    "    # crea matriz crowding. Filas representan individuos, columnas representan objectives\n",
    "    crowding_matrix = np.zeros((pop_size, num_objectives))\n",
    "\n",
    "    # normalisa los fitnesses entre 0 y 1 (ptp es max - min)\n",
    "    normalized_fitnesses = (fitnesses - fitnesses.min(0)) / fitnesses.ptp(0)\n",
    "\n",
    "    for col in range(num_objectives):   # Por cada objective\n",
    "        crowding = np.zeros(pop_size)\n",
    "\n",
    "        # puntos extremos tienen maximo crowding\n",
    "        crowding[0] = 1\n",
    "        crowding[pop_size - 1] = 1\n",
    "\n",
    "        # ordena los fitness normalizados del objectivo actual\n",
    "        sorted_fitnesses = np.sort(normalized_fitnesses[:, col])\n",
    "        sorted_fitnesses_index = np.argsort(normalized_fitnesses[:, col])\n",
    "\n",
    "        # Calcula la distancia crowding de cada individuo como la diferencia de score de los vecinos\n",
    "        crowding[1:pop_size - 1] = (sorted_fitnesses[2:pop_size] - sorted_fitnesses[0:pop_size - 2])\n",
    "\n",
    "        # obtiene el ordenamiento original\n",
    "        re_sort_order = np.argsort(sorted_fitnesses_index)\n",
    "        sorted_crowding = crowding[re_sort_order]\n",
    "\n",
    "        # Salva las distancias crowdingpara el objetivo que se esta iterando\n",
    "        crowding_matrix[:, col] = sorted_crowding\n",
    "\n",
    "    # Obtiene las distancias crowding finales sumando las distancias crowding de cada objetivo\n",
    "    crowding_distances = np.sum(crowding_matrix, axis=1)\n",
    "\n",
    "    return crowding_distances"
   ]
  },
  {
   "cell_type": "code",
   "execution_count": 42,
   "metadata": {},
   "outputs": [],
   "source": [
    "def select_by_crowding(population, num_individuals):\n",
    "    \"\"\"\n",
    "    Selecciona una poblacion de individuos basado en torneos de pares de individuos: dos individuos se escoge al azar\n",
    "    y se selecciona el mejor segun la distancia crowding. Se repite hasta obtener num_individuals individuos\n",
    "    \"\"\"\n",
    "    population = deepcopy(population)\n",
    "    pop_size = len(population)\n",
    "\n",
    "    num_objectives = len(population[0].fitness)\n",
    "\n",
    "    # extrae los fitness de la poblacion en la matriz fitnesses\n",
    "    fitnesses = np.zeros([pop_size, num_objectives])\n",
    "    for i in range(pop_size): fitnesses[i,:] = population[i].fitness\n",
    "\n",
    "    # obtiene las  distancias  crowding\n",
    "    crowding_distances = get_crowding_distances(fitnesses)\n",
    "\n",
    "    population_selected = []   # poblacion escogida\n",
    "\n",
    "    for i in range(num_individuals):  # por cada individuo a seleccionar\n",
    "\n",
    "        # escoje dos individuos aleatoriamente de la poblacion no escogida aun\n",
    "        permut = np.random.permutation( len(population) )\n",
    "        ind1_id = permut[0]\n",
    "        ind2_id = permut[1]\n",
    "\n",
    "        # Si ind1_id es el mejor\n",
    "        if crowding_distances[ind1_id] >= crowding_distances[ind2_id]:\n",
    "\n",
    "            # traslada el individuo ind1 de population a la lista de individuos seleccionados\n",
    "            population_selected.append( population.pop(ind1_id) )\n",
    "            # remueve la distancia crowding del individuo seleccionado\n",
    "            crowding_distances = np.delete(crowding_distances, ind1_id, axis=0)\n",
    "\n",
    "        else:  # Si ind2_id es el mejor\n",
    "\n",
    "            # traslada el individuo ind2 de population a la lista de individuos seleccionados\n",
    "            population_selected.append( population.pop(ind2_id) )\n",
    "            # remueve la distancia crowding del individuo seleccionado\n",
    "            crowding_distances = np.delete(crowding_distances, ind2_id, axis=0)\n",
    "\n",
    "    return (population_selected)"
   ]
  },
  {
   "cell_type": "code",
   "execution_count": 346,
   "metadata": {},
   "outputs": [],
   "source": [
    "def get_paretofront_population(population):\n",
    "    \"\"\"\n",
    "    Obtiene de population la poblacion de individups de la frontera de Pareto,\n",
    "    \"\"\"\n",
    "    #population = deepcopy(population)\n",
    "    pop_size = len(population)\n",
    "\n",
    "    # todos los individuos son inicialmente asumidos como la frontera de Pareto\n",
    "    pareto_front = np.ones(pop_size, dtype=bool)\n",
    "\n",
    "    for i in range(pop_size): # Compara cada individuo contra todos los demas\n",
    "        for j in range(pop_size):\n",
    "            # Chequea si individuo 'i' es dominado por individuo 'j'\n",
    "            #if all(population[j].fitness >= population[i].fitness) and any(population[j].fitness > population[i].fitness):\n",
    "            #if str(all(population[j].fitness >= population[i].fitness)) and str(any(population[j].fitness > population[i].fitness)):\n",
    "            if np.all(np.asarray(population[j].fitness) > np.asarray(population[i].fitness)): # and np.any(np.asarray(population[j].fitness) > np.asarray(population[i].fitness)):\n",
    "                # j domina i -> señaliza que individuo 'i' como no siendo parte de la frontera de Pareto\n",
    "                pareto_front[i] = 0\n",
    "                break   # Para la busqueda para 'i' (no es necesario hacer mas comparaciones)\n",
    "\n",
    "    paretofront_population = []\n",
    "    for i in range(pop_size):  # construye la lista de individuos de la frontera de Pareto\n",
    "        if pareto_front[i] == 1: paretofront_population.append(population[i])\n",
    "\n",
    "    return paretofront_population"
   ]
  },
  {
   "cell_type": "code",
   "execution_count": 207,
   "metadata": {},
   "outputs": [],
   "source": [
    "def build_next_population(population, min_pop_size, max_pop_size):\n",
    "    \"\"\"\n",
    "    Construye la poblacion de la siguiente generacion añadiendo sucesivas fronteras de Pareto hasta\n",
    "    tener una poblacion de al menos min_pop_size individuos. Reduce la frontera de Pareto con el metodo de\n",
    "    crowding distance si al agregar la frontera excede el tamaño maximo de la poblacion (max_pop_size)\n",
    "    \"\"\"\n",
    "    population = deepcopy(population)\n",
    "    pareto_front = []\n",
    "    next_population = []\n",
    "\n",
    "    while len(next_population) < min_pop_size:   # mientras la poblacion no tenga el tamaño minimo\n",
    "        # obtiene la poblacion frontera de Pareto actual\n",
    "        paretofront_population = get_paretofront_population(population)\n",
    "\n",
    "        # si poblacion actual + paretofront excede el maximo permitido -> reduce paretofront con el metodo de crowding\n",
    "        combined_population_size = len(next_population) + len(paretofront_population)\n",
    "        if  combined_population_size > max_pop_size:\n",
    "            paretofront_population = select_by_crowding( paretofront_population, max_pop_size-len(next_population) )\n",
    "\n",
    "        # Adiciona la frontera de Pareto (original o reducida) a la poblacion en construccion\n",
    "        next_population.extend( paretofront_population )\n",
    "\n",
    "        # remueve de population los individuos que fueron agregados a next_population\n",
    "        for i in range( len(paretofront_population) ):\n",
    "            for j in range( len(population) ):\n",
    "                if all( np.asarray(paretofront_population[i].flights) == np.asarray(population[j].flights) ):\n",
    "                    del(population[j])\n",
    "                    break\n",
    "\n",
    "    return next_population"
   ]
  },
  {
   "cell_type": "code",
   "execution_count": 482,
   "metadata": {},
   "outputs": [],
   "source": [
    "\n",
    "def graficar_frontera(pareto_front_population):\n",
    "    ## Plotea los individuos de la frontera de Pareto final\n",
    "    pop_size = len(pareto_front_population)\n",
    "    num_objectives = len(pareto_front_population[0].fitness)\n",
    "\n",
    "    # extrae los fitness de la poblacion en la matriz fitnesses\n",
    "    fitnesses = np.zeros([pop_size, num_objectives])\n",
    "    for i in range(pop_size): fitnesses[i,:] = pareto_front_population[i].fitness\n",
    "\n",
    "    x = fitnesses[:, 0]\n",
    "    y = fitnesses[:, 1]\n",
    "    \n",
    "    fitnesses_monoobjetivo = fitness_multi(best_ind.flights, best_ind.gates)\n",
    "    plt.scatter(fitnesses_monoobjetivo[0], fitnesses_monoobjetivo[1], color='blue', marker='.', s=100, label=f\"Solución MONO {i+1}\")    \n",
    "    \n",
    "    plt.title('Análisis modelos MULTI-OBJETIVO')\n",
    "    plt.xlabel('Objectivo A - Cantidad pasajeros total')\n",
    "    plt.ylabel('''Objectivo B - Tiempo de descenso por pasajero \n",
    "               (1/tiempo total)''')\n",
    "    plt.scatter(x,y, color='grey')\n",
    "    \n",
    "    plt.legend()\n",
    "    plt.savefig('pareto2.png')\n",
    "    plt.show()"
   ]
  },
  {
   "cell_type": "code",
   "execution_count": 269,
   "metadata": {},
   "outputs": [],
   "source": [
    "population = init_population(num_individuals, flights_to_assign, list_of_flights, list_of_gates)"
   ]
  },
  {
   "cell_type": "code",
   "execution_count": 499,
   "metadata": {},
   "outputs": [
    {
     "name": "stdout",
     "output_type": "stream",
     "text": [
      "Generacion 0 (de 21) \n",
      "Grafico de Frontera Pareto - Generacion  0\n"
     ]
    },
    {
     "data": {
      "image/png": "[encoded data removed]",
      "text/plain": [
       "<Figure size 640x480 with 1 Axes>"
      ]
     },
     "metadata": {},
     "output_type": "display_data"
    },
    {
     "name": "stdout",
     "output_type": "stream",
     "text": [
      "Generacion 10 (de 21) \n",
      "Generacion 20 (de 21) \n",
      "Grafico de Frontera Pareto - Generacion  20\n"
     ]
    },
    {
     "data": {
      "image/png": "[encoded data removed]",
      "text/plain": [
       "<Figure size 640x480 with 1 Axes>"
      ]
     },
     "metadata": {},
     "output_type": "display_data"
    }
   ],
   "source": [
    "## CODIGO PRINCIPAL DEL  ALGORITMO GENETICO  NSGA-II\n",
    "\n",
    "#GENERATIONS = 300\n",
    "GENERATIONS = 21\n",
    "MIN_POP_SIZE = 50\n",
    "MAX_POP_SIZE = 50\n",
    "PMUT = 0.5\n",
    "\n",
    "P = deepcopy(population)\n",
    "evaluate_population_multi(P, fitness_multi)\n",
    "\n",
    "## Ejecuta los ciclos evolutivos\n",
    "for g in range(GENERATIONS):   # Por cada generacion\n",
    "\n",
    "    if g %10 == 0:\n",
    "        print ('Generacion {} (de {}) '.format(g, GENERATIONS))\n",
    "\n",
    "    ## genera y evalua la poblacion hija\n",
    "    Q = build_offspring_population(P, \"orderpermutation\", \"swap\", PMUT)\n",
    "    evaluate_population_multi(Q, fitness_multi)\n",
    "\n",
    "    ## une la poblacion padre y la poblacion hija\n",
    "    P.extend(Q)\n",
    "\n",
    "    ## Construye la poblacion de la siguiente generacion\n",
    "    P = build_next_population(P, MIN_POP_SIZE, MAX_POP_SIZE)\n",
    "\n",
    "    if g %20 == 0:\n",
    "        print('Grafico de Frontera Pareto - Generacion ', g)\n",
    "        graficar_frontera(P)\n",
    "    \n",
    "# Obtiene la poblacion de la frontera de pareto final\n",
    "pareto_front_population = get_paretofront_population(P)"
   ]
  },
  {
   "cell_type": "code",
   "execution_count": 500,
   "metadata": {},
   "outputs": [],
   "source": [
    "pop_size = 50\n",
    "num_objectives = 2\n",
    "\n",
    "fitnesses_iter3 = np.zeros([pop_size, num_objectives])\n",
    "for i in range(pop_size): \n",
    "    fitnesses_iter3[i,:] = pareto_front_population[i].fitness"
   ]
  },
  {
   "cell_type": "code",
   "execution_count": 515,
   "metadata": {},
   "outputs": [],
   "source": [
    "#fitnesses_mono1 = fitness_multi(best_ind.flights, best_ind.gates)\n",
    "fitnesses_mono2 = fitness_multi(best_ind.flights, best_ind.gates)"
   ]
  },
  {
   "cell_type": "markdown",
   "metadata": {},
   "source": [
    "<b>Grafico de Frontera de Paretto<b/>"
   ]
  },
  {
   "cell_type": "code",
   "execution_count": 520,
   "metadata": {},
   "outputs": [
    {
     "data": {
      "image/png": "[encoded data removed]",
      "text/plain": [
       "<Figure size 640x480 with 1 Axes>"
      ]
     },
     "metadata": {},
     "output_type": "display_data"
    }
   ],
   "source": [
    "## Plotea los individuos de la frontera de Pareto final\n",
    "pop_size = len(pareto_front_population)\n",
    "num_objectives = len(pareto_front_population[0].fitness)\n",
    "\n",
    "# extrae los fitness de la poblacion en la matriz fitnesses\n",
    "fitnesses = np.zeros([pop_size, num_objectives])\n",
    "for i in range(pop_size): fitnesses[i,:] = pareto_front_population[i].fitness\n",
    "\n",
    "plt.title('Análisis modelos MULTI- vs MONO- OBJETIVO')\n",
    "plt.xlabel('Objectivo A - Cantidad pasajeros total')\n",
    "plt.ylabel('''Objectivo B - Tiempo de descenso de un pasajero \n",
    "           (1/tiempo total)''')\n",
    "\n",
    "x1 = fitnesses_iter1[:, 0]\n",
    "y1 = fitnesses_iter1[:, 1]\n",
    "plt.scatter(x1,y1, color='grey', label=\"Solución Muti-objetivo V1\")\n",
    "\n",
    "x2 = fitnesses_iter2[:, 0]\n",
    "y2 = fitnesses_iter2[:, 1]\n",
    "plt.scatter(x2,y2, color='skyblue', label=\"Solución Muti-objetivo V2\")\n",
    "\n",
    "# Agrega PUNTOS (X) de SOLUCION MONO OBJETIVO en la coordenada\n",
    "plt.scatter(fitnesses_mono1[0], fitnesses_monoobjetivo[1], color='blue', marker='.', s=100, label=f\"Solución Mono-objetivo V1\")\n",
    "\n",
    "plt.scatter(fitnesses_mono2[0], fitnesses_monoobjetivo[1], color='blue', marker='.', s=100, label=f\"Solución Mono-objetivo V2\")    \n",
    "\n",
    "# Agrega PUNTOS DOMINADOS en SOLUCION MULTI OBJETIVO en la coordenada\n",
    "#for i in range(len(fitnesses_dominados)):\n",
    "#    plt.scatter(fitnesses_dominados[i][0], fitnesses_dominados[i][1], color='grey', marker='x', s=100, label=f\"Solución MULTI dominada {i+1}\")    \n",
    "\n",
    "plt.legend()\n",
    "plt.savefig('pareto2.png')\n",
    "plt.show()"
   ]
  },
  {
   "cell_type": "code",
   "execution_count": null,
   "metadata": {},
   "outputs": [],
   "source": []
  },
  {
   "cell_type": "code",
   "execution_count": null,
   "metadata": {},
   "outputs": [],
   "source": []
  },
  {
   "cell_type": "code",
   "execution_count": null,
   "metadata": {},
   "outputs": [],
   "source": []
  },
  {
   "cell_type": "code",
   "execution_count": null,
   "metadata": {},
   "outputs": [],
   "source": []
  }
 ],
 "metadata": {
  "colab": {
   "collapsed_sections": [],
   "name": "LAB_5_ACC_2021_1_Solución v2.ipynb",
   "provenance": []
  },
  "kernelspec": {
   "display_name": "Python 3",
   "language": "python",
   "name": "python3"
  },
  "language_info": {
   "codemirror_mode": {
    "name": "ipython",
    "version": 3
   },
   "file_extension": ".py",
   "mimetype": "text/x-python",
   "name": "python",
   "nbconvert_exporter": "python",
   "pygments_lexer": "ipython3",
   "version": "3.12.2"
  }
 },
 "nbformat": 4,
 "nbformat_minor": 1
}
